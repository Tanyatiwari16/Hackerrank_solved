{
 "cells": [
  {
   "cell_type": "code",
   "execution_count": 10,
   "metadata": {},
   "outputs": [
    {
     "name": "stdout",
     "output_type": "stream",
     "text": [
      "dict['Age']:  [7, 4, 6]\n",
      "[7, 4, 6]\n"
     ]
    }
   ],
   "source": [
    "dict = {Age':[7 ,4, 6]}\n",
    "print(\"dict['Age']: \", dict['Age'])\n",
    "#print \"dict['Age']: \", dict['Age']\n",
    "x=dict['Age']\n",
    "x\n",
    "print(x)\n",
    "        "
   ]
  },
  {
   "cell_type": "code",
   "execution_count": 13,
   "metadata": {},
   "outputs": [
    {
     "name": "stdout",
     "output_type": "stream",
     "text": [
      "3\n",
      "Tan 5 6\n",
      "hs 5 6\n",
      "sg 8 6\n",
      "Tan\n",
      "5.50\n"
     ]
    }
   ],
   "source": [
    "n = int(input())\n",
    "student_marks = {}\n",
    "for _ in range(n):\n",
    "    name, *line = input().split()\n",
    "    scores = list(map(float, line))\n",
    "    student_marks[name] = scores\n",
    "query_name = input()\n",
    "x=student_marks[query_name]\n",
    "h=len(x)\n",
    "Totl=sum(x)\n",
    "ans=Totl/h\n",
    "print('%.2f'%ans)  ##Upto 2 decimal places  \n"
   ]
  },
  {
   "cell_type": "code",
   "execution_count": null,
   "metadata": {},
   "outputs": [],
   "source": []
  }
 ],
 "metadata": {
  "kernelspec": {
   "display_name": "Python 3",
   "language": "python",
   "name": "python3"
  },
  "language_info": {
   "codemirror_mode": {
    "name": "ipython",
    "version": 3
   },
   "file_extension": ".py",
   "mimetype": "text/x-python",
   "name": "python",
   "nbconvert_exporter": "python",
   "pygments_lexer": "ipython3",
   "version": "3.6.9"
  }
 },
 "nbformat": 4,
 "nbformat_minor": 4
}
