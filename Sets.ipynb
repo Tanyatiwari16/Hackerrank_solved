{
 "cells": [
  {
   "cell_type": "code",
   "execution_count": 18,
   "metadata": {},
   "outputs": [
    {
     "name": "stdout",
     "output_type": "stream",
     "text": [
      "3 3\n",
      "1 1 1\n",
      "1 2 3\n",
      "4 5 6\n",
      "1\n"
     ]
    }
   ],
   "source": [
    "# Enter your code here. Read input from STDIN. Print output to STDOUT\n",
    "\n",
    "n,m=map(int,input().split()) \n",
    "\n",
    "Arr=list(map(int,input().split())) \n",
    "A=list(map(int,input().split())) \n",
    "B=list(map(int,input().split()))\n",
    "\n",
    "Add=[]\n",
    "for i in Arr:\n",
    "    if i in A:\n",
    "            Add.append(1)\n",
    "Add=set(Add)\n",
    "for i in Arr:\n",
    "    if i in B:\n",
    "           Sub.append(1)\n",
    "Sub=set(Sub)\n",
    "print(len(Add)-len(Sub))\n",
    "    "
   ]
  },
  {
   "cell_type": "code",
   "execution_count": null,
   "metadata": {},
   "outputs": [],
   "source": []
  }
 ],
 "metadata": {
  "kernelspec": {
   "display_name": "Python 3",
   "language": "python",
   "name": "python3"
  },
  "language_info": {
   "codemirror_mode": {
    "name": "ipython",
    "version": 3
   },
   "file_extension": ".py",
   "mimetype": "text/x-python",
   "name": "python",
   "nbconvert_exporter": "python",
   "pygments_lexer": "ipython3",
   "version": "3.6.9"
  }
 },
 "nbformat": 4,
 "nbformat_minor": 4
}
