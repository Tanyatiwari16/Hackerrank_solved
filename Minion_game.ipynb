{
 "cells": [
  {
   "cell_type": "code",
   "execution_count": 1,
   "metadata": {},
   "outputs": [
    {
     "name": "stdout",
     "output_type": "stream",
     "text": [
      "indices of vowels ar [1, 3, 5]\n",
      "indices of conson [0, 2, 4]\n",
      "all substrings are ['', 'B', 'BA', 'BAN', 'BANA', 'BANAN', 'BANANA', '', 'A', 'AN', 'ANA', 'ANAN', 'ANANA', '', 'N', 'NA', 'NAN', 'NANA', '', 'A', 'AN', 'ANA', '', 'N', 'NA', '', 'A']\n",
      "vovels combin is ['A', 'AN', 'ANA', 'ANAN', 'ANANA', 'A', 'AN', 'ANA', 'A']\n",
      "Consonants combin is ['B', 'BA', 'BAN', 'BANA', 'BANAN', 'BANANA', 'N', 'NA', 'NAN', 'NANA', 'N', 'NA']\n",
      "['B', 'BA', 'BAN', 'BANA', 'BANAN', 'BANANA', 'N', 'NA', 'NAN', 'NANA', 'N', 'NA']\n",
      "12\n",
      "9\n",
      "Stuart 12\n"
     ]
    }
   ],
   "source": [
    "a='BANANA'\n",
    "x=[]\n",
    "y=[]\n",
    "\n",
    "for i in range(0,len(a)):\n",
    "    if a[i]=='a' or a[i]=='e' or a[i]=='i' or a[i]=='o' or a[i]=='u' or a[i]=='A' or a[i]=='E' or a[i]=='I' or a[i]=='O' or a[i]=='U':\n",
    "        \n",
    "        \n",
    "        x.extend([i])\n",
    "    else:\n",
    "        y.extend([i])\n",
    "print(\"indices of vowels ar\",x)\n",
    "print(\"indices of conson\",y)\n",
    "\n",
    "all_Strings=[]\n",
    "\n",
    "for i in range(0,len(a)):\n",
    "    for j in range(i,len(a)+1):\n",
    "        \n",
    "        all_Strings.append(a[i:j])\n",
    "        \n",
    "print(\"all substrings are\",all_Strings)\n",
    "kevin=[]\n",
    "for i in x:\n",
    "    for j in range(i,len(a)):\n",
    "        \n",
    "        kevin.append(a[i:j+1])\n",
    "        #print(\"vovels are\",a[i:j+1])\n",
    "print(\"vovels combin is\",kevin)\n",
    "Stuart=[]       \n",
    "for i in y:\n",
    "    for j in range(i,len(a)):\n",
    "        \n",
    "        #print(\"consonant strings are\",a[i:j+1])\n",
    "        Stuart.append(a[i:j+1])\n",
    "print(\"Consonants combin is\",Stuart)\n",
    "        \n",
    "print(Stuart)\n",
    "count_Stuart=0\n",
    "for i in Stuart:\n",
    "    if i in all_Strings:\n",
    "        #print(i)\n",
    "        count_Stuart=count_Stuart+1\n",
    "        \n",
    "print(count_Stuart)\n",
    "\n",
    "count_Kevin=0\n",
    "for i in kevin:\n",
    "    if i in all_Strings:\n",
    "        #print(i)\n",
    "        count_Kevin=count_Kevin+1\n",
    "        \n",
    "print(count_Kevin)\n",
    "\n",
    "if count_Kevin>count_Stuart:\n",
    "    print('Kevin',count_Kevin)\n",
    "    \n",
    "else:\n",
    "    print(\"Stuart\",count_Stuart)\n",
    "    \n",
    "    "
   ]
  },
  {
   "cell_type": "code",
   "execution_count": 2,
   "metadata": {},
   "outputs": [
    {
     "name": "stdout",
     "output_type": "stream",
     "text": [
      "['d', 'da', 'dab', 'daba', 'dabaa', 'a', 'ab', 'aba', 'abaa', 'b', 'ba', 'baa', 'a', 'aa', 'a']\n"
     ]
    }
   ],
   "source": [
    "a='dabaa'\n",
    "all_Strings=[]\n",
    "\n",
    "for i in range(0,len(a)):\n",
    "    for j in range(i+1,len(a)+1):\n",
    "        \n",
    "        all_Strings.append(a[i:j])\n",
    "        \n",
    "print(all_Strings)"
   ]
  },
  {
   "cell_type": "code",
   "execution_count": null,
   "metadata": {},
   "outputs": [],
   "source": []
  }
 ],
 "metadata": {
  "kernelspec": {
   "display_name": "Python 3",
   "language": "python",
   "name": "python3"
  },
  "language_info": {
   "codemirror_mode": {
    "name": "ipython",
    "version": 3
   },
   "file_extension": ".py",
   "mimetype": "text/x-python",
   "name": "python",
   "nbconvert_exporter": "python",
   "pygments_lexer": "ipython3",
   "version": "3.6.9"
  }
 },
 "nbformat": 4,
 "nbformat_minor": 4
}
