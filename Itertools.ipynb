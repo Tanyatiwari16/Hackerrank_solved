{
 "cells": [
  {
   "cell_type": "code",
   "execution_count": 16,
   "metadata": {},
   "outputs": [
    {
     "name": "stdout",
     "output_type": "stream",
     "text": [
      "11223445512\n",
      "(2, 1) (2, 2) (1, 3) (2, 4) (2, 5) (1, 1) (1, 2) "
     ]
    }
   ],
   "source": [
    "x=input()\n",
    "import itertools\n",
    "for group, items in itertools.groupby(x):  \n",
    "    print((len(list(items)),int(group)),end=\" \")"
   ]
  },
  {
   "cell_type": "code",
   "execution_count": 17,
   "metadata": {},
   "outputs": [
    {
     "name": "stdout",
     "output_type": "stream",
     "text": [
      "112245112\n",
      "(['1', '1'], '1')\n",
      "(['2', '2'], '2')\n",
      "(['4'], '4')\n",
      "(['5'], '5')\n",
      "(['1', '1'], '1')\n",
      "(['2'], '2')\n"
     ]
    }
   ],
   "source": [
    "x=input()\n",
    "import itertools\n",
    "for group, items in itertools.groupby(x):  ##for placing consecutive elements in a list  \n",
    "    print(((list(items)),(group))) "
   ]
  },
  {
   "cell_type": "code",
   "execution_count": 20,
   "metadata": {},
   "outputs": [
    {
     "name": "stdout",
     "output_type": "stream",
     "text": [
      "All the combination of string in sorted order(with replacement) is:\n",
      "[('A', 'A'), ('A', 'B'), ('B', 'B')]\n",
      "\n",
      "1 2 3 4\n",
      "All the combination of list in sorted order(with replacement) is:\n",
      "[('1', '1'), ('1', '2'), ('1', '3'), ('1', '4'), ('2', '2'), ('2', '3'), ('2', '4'), ('3', '3'), ('3', '4'), ('4', '4')]\n",
      "\n"
     ]
    }
   ],
   "source": [
    "from itertools import combinations_with_replacement  \n",
    "    \n",
    "print (\"All the combination of string in sorted order(with replacement) is:\")  \n",
    "print(list(combinations_with_replacement(\"AB\", 2)))  \n",
    "print()  \n",
    "x=input().split()   \n",
    "print (\"All the combination of list in sorted order(with replacement) is:\")  \n",
    "print(list(combinations_with_replacement(x, 2)))  \n",
    "print()  "
   ]
  },
  {
   "cell_type": "code",
   "execution_count": 56,
   "metadata": {},
   "outputs": [
    {
     "name": "stdout",
     "output_type": "stream",
     "text": [
      "4\n",
      "a a c d\n",
      "2\n"
     ]
    }
   ],
   "source": [
    "from itertools import combinations\n",
    "No_of_letters=int(input())\n",
    "String=list(input().split())\n",
    "k=int(input())\n",
    "x=(list(combinations(String, k)))  "
   ]
  },
  {
   "cell_type": "code",
   "execution_count": 57,
   "metadata": {},
   "outputs": [
    {
     "name": "stdout",
     "output_type": "stream",
     "text": [
      "[('a', 'a'), ('a', 'c'), ('a', 'd'), ('a', 'c'), ('a', 'd'), ('c', 'd')]\n"
     ]
    }
   ],
   "source": [
    "print(x) "
   ]
  },
  {
   "cell_type": "code",
   "execution_count": 52,
   "metadata": {},
   "outputs": [
    {
     "name": "stdout",
     "output_type": "stream",
     "text": [
      "0.8333333333333334\n"
     ]
    }
   ],
   "source": [
    "#x[1][1]\n",
    "count=0\n",
    "\n",
    "for i in range(0,len(x)):\n",
    "    for j in range(0,k):\n",
    "        \n",
    "        if x[i][j]==\"a\":\n",
    "            count+=1\n",
    "            break\n",
    "            \n",
    "print(count/len(x))"
   ]
  },
  {
   "cell_type": "code",
   "execution_count": null,
   "metadata": {},
   "outputs": [],
   "source": []
  }
 ],
 "metadata": {
  "kernelspec": {
   "display_name": "Python 3",
   "language": "python",
   "name": "python3"
  },
  "language_info": {
   "codemirror_mode": {
    "name": "ipython",
    "version": 3
   },
   "file_extension": ".py",
   "mimetype": "text/x-python",
   "name": "python",
   "nbconvert_exporter": "python",
   "pygments_lexer": "ipython3",
   "version": "3.6.9"
  }
 },
 "nbformat": 4,
 "nbformat_minor": 4
}
