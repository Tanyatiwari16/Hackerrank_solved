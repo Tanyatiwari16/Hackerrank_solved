{
 "cells": [
  {
   "cell_type": "code",
   "execution_count": 2,
   "metadata": {},
   "outputs": [
    {
     "name": "stdout",
     "output_type": "stream",
     "text": [
      "5\n",
      "Harry\n",
      "37.21\n",
      "Barry\n",
      "37.21\n",
      "Tina\n",
      "37.2\n",
      "Akriti\n",
      "41\n",
      "Harsh\n",
      "39\n",
      "[['Harry', 37.21], ['Barry', 37.21], ['Tina', 37.2], ['Akriti', 41.0], ['Harsh', 39.0]]\n"
     ]
    }
   ],
   "source": [
    "import numpy as np\n",
    "x=[]\n",
    "y=[]\n",
    "for _ in range(int(input())):\n",
    "    x.append([])\n",
    "    \n",
    "for i in range(0,len(x)): ##ROw itertation \n",
    "    \n",
    "    name = input()\n",
    "    score = float(input())\n",
    "    x[i].append(name)\n",
    "    x[i].append(score)  ##Appending in the same row \n",
    "    \n",
    "\n",
    "print(x)\n"
   ]
  },
  {
   "cell_type": "code",
   "execution_count": 4,
   "metadata": {},
   "outputs": [
    {
     "name": "stdout",
     "output_type": "stream",
     "text": [
      "length if orig list is  5\n",
      "['Harry', 37.21]\n",
      "37.21\n",
      "['Barry', 37.21]\n",
      "37.21\n",
      "['Tina', 37.2]\n",
      "37.2\n",
      "['Akriti', 41.0]\n",
      "41.0\n",
      "['Harsh', 39.0]\n",
      "39.0\n",
      "[37.21, 37.21, 37.2, 41.0, 39.0]\n",
      "[['Harry', 37.21], ['Barry', 37.21], ['Akriti', 41.0], ['Harsh', 39.0]]\n",
      "length if orig list is  4\n",
      "[37.21, 37.21, 41.0, 39.0]\n",
      "[['Harry', 37.21], ['Barry', 37.21]]\n",
      "Harry\n",
      "Barry\n",
      "Words in list   Harry  Barry \n",
      "The sorted words are:\n",
      "Barry\n",
      "Harry\n"
     ]
    }
   ],
   "source": [
    "k=[]\n",
    "print(\"length if orig list is \",len(x))\n",
    "for i in range(0,len(x)):\n",
    "    \n",
    "    print(x[i])\n",
    "    print(x[i][1])\n",
    "    k.append(x[i][1])\n",
    "new=x    \n",
    "print(k)\n",
    "final=[]\n",
    "Min=min(k)\n",
    "for i in range(0,len(x)):\n",
    "    if (x[i][1])!=Min:\n",
    "        final.append(x[i])\n",
    "        \n",
    "print(final)\n",
    "\n",
    "#######List excluding sencond maximum element is printed\n",
    "k_new=[]\n",
    "print(\"length if orig list is \",len(final))\n",
    "for i in range(0,len(final)):\n",
    "    \n",
    "        k_new.append(final[i][1])\n",
    "new_final=final    \n",
    "print(k_new)\n",
    "haha=[]\n",
    "Min_new=min(k_new)\n",
    "for i in range(0,len(final)):\n",
    "    if (final[i][1])==Min_new:\n",
    "        haha.append(final[i])\n",
    "\n",
    "        \n",
    "        \n",
    "print(haha)\n",
    "Tanya=''\n",
    "for i in range(len(haha)):\n",
    "    print(haha[i][0])\n",
    "    Tanya=Tanya+\" \"+(haha[i][0])+\" \"\n",
    "    \n",
    "print(\"Words in list \",Tanya)\n",
    "words = Tanya.split()\n",
    "\n",
    "# sort the list\n",
    "words.sort()\n",
    "\n",
    "print(\"The sorted words are:\")\n",
    "for word in words:\n",
    "   print(word)"
   ]
  },
  {
   "cell_type": "code",
   "execution_count": null,
   "metadata": {},
   "outputs": [],
   "source": []
  },
  {
   "cell_type": "code",
   "execution_count": null,
   "metadata": {},
   "outputs": [],
   "source": []
  }
 ],
 "metadata": {
  "kernelspec": {
   "display_name": "Python 3",
   "language": "python",
   "name": "python3"
  },
  "language_info": {
   "codemirror_mode": {
    "name": "ipython",
    "version": 3
   },
   "file_extension": ".py",
   "mimetype": "text/x-python",
   "name": "python",
   "nbconvert_exporter": "python",
   "pygments_lexer": "ipython3",
   "version": "3.6.9"
  }
 },
 "nbformat": 4,
 "nbformat_minor": 4
}
