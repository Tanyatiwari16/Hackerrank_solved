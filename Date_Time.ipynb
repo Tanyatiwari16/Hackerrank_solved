{
 "cells": [
  {
   "cell_type": "code",
   "execution_count": 1,
   "metadata": {},
   "outputs": [
    {
     "name": "stdout",
     "output_type": "stream",
     "text": [
      "date_string = Sun 10 May 2015 13:54:36 -0530\n",
      "type of date_string = <class 'str'>\n",
      "date_object = 2015-05-10 13:54:36-05:30\n",
      "type of date_object = <class 'datetime.datetime'>\n",
      "date_string = Mon 11 May 2015 13:54:36 +0530\n",
      "type of date_string = <class 'str'>\n",
      "date_object = 2015-05-11 13:54:36+05:30\n",
      "type of date_object = <class 'datetime.datetime'>\n",
      "46800.0\n"
     ]
    }
   ],
   "source": [
    "from datetime import datetime\n",
    "\n",
    "date_string1 = \"Sun 10 May 2015 13:54:36 -0530\"\n",
    "\n",
    "print(\"date_string =\", date_string1)\n",
    "print(\"type of date_string =\", type(date_string1))\n",
    "\n",
    "date_object1 = datetime.strptime(date_string1, \"%a %d %b %Y %H:%M:%S %z\")\n",
    "\n",
    "print(\"date_object =\", date_object1)\n",
    "print(\"type of date_object =\", type(date_object1))\n",
    "\n",
    "#######################\n",
    "\n",
    "date_string2 = \"Mon 11 May 2015 13:54:36 +0530\"\n",
    "\n",
    "print(\"date_string =\", date_string2)\n",
    "print(\"type of date_string =\", type(date_string2))\n",
    "\n",
    "date_object2 = datetime.strptime(date_string2, \"%a %d %b %Y %H:%M:%S %z\")\n",
    "\n",
    "print(\"date_object =\", date_object2)\n",
    "print(\"type of date_object =\", type(date_object2))\n",
    "\n",
    "x=date_object2-date_object1\n",
    "total_seconds = x.total_seconds()\n",
    "print(total_seconds)"
   ]
  },
  {
   "cell_type": "code",
   "execution_count": 3,
   "metadata": {},
   "outputs": [
    {
     "name": "stdout",
     "output_type": "stream",
     "text": [
      "1\n",
      "Sun 10 May 2015 13:54:36 -0530\n",
      "Sun 10 May 2015 13:54:36 -0000\n",
      "19800\n"
     ]
    }
   ],
   "source": [
    "import math\n",
    "import os\n",
    "import random\n",
    "import re\n",
    "import sys\n",
    "from datetime import datetime \n",
    "\n",
    "# Complete the time_delta function below.\n",
    "def time_delta(t1, t2):\n",
    "    \n",
    "    date_object1 = datetime.strptime(t1, \"%a %d %b %Y %H:%M:%S %z\")\n",
    "    date_object2 = datetime.strptime(t2, \"%a %d %b %Y %H:%M:%S %z\")\n",
    "        \n",
    "    x=date_object2-date_object1\n",
    "    total_seconds = int(abs(x.total_seconds()))\n",
    "    return(str(total_seconds))\n",
    "    \n",
    "if __name__ == '__main__':\n",
    "    #fptr = open(os.environ['OUTPUT_PATH'], 'w')\n",
    "\n",
    "    t = int(input())\n",
    "\n",
    "    for t_itr in range(t):\n",
    "        t1 = input()\n",
    "\n",
    "        t2 = input()\n",
    "\n",
    "        delta = (time_delta(t1, t2))\n",
    "        print(delta)\n",
    "        #fptr.write(delta + '\\n')\n",
    "\n",
    "    #fptr.close()\n"
   ]
  },
  {
   "cell_type": "code",
   "execution_count": null,
   "metadata": {},
   "outputs": [],
   "source": [
    "##https://www.programiz.com/python-programming/datetime/strptime"
   ]
  }
 ],
 "metadata": {
  "kernelspec": {
   "display_name": "Python 3",
   "language": "python",
   "name": "python3"
  },
  "language_info": {
   "codemirror_mode": {
    "name": "ipython",
    "version": 3
   },
   "file_extension": ".py",
   "mimetype": "text/x-python",
   "name": "python",
   "nbconvert_exporter": "python",
   "pygments_lexer": "ipython3",
   "version": "3.6.9"
  }
 },
 "nbformat": 4,
 "nbformat_minor": 4
}
