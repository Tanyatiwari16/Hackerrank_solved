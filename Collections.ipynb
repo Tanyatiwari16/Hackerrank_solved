{
 "cells": [
  {
   "cell_type": "code",
   "execution_count": 5,
   "metadata": {},
   "outputs": [
    {
     "name": "stdout",
     "output_type": "stream",
     "text": [
      "4\n",
      "abss\n",
      "snsa\n",
      "akjbsk\n",
      "skajbk\n",
      "4\n",
      "1 1 1 1 "
     ]
    }
   ],
   "source": [
    "# Python program to demonstrate \n",
    "# defaultdict \n",
    "\t\n",
    "\t\n",
    "from collections import defaultdict \n",
    "\t\n",
    "\t\n",
    "# Defining the dict \n",
    "d = defaultdict(int) \n",
    "n=int(input()) \n",
    "\n",
    "L=[]\n",
    "for i in range(0,n):\n",
    "    L.append(input())\n",
    "#L = [\"bcdef\"\n",
    "#,\"abcdefg\",\n",
    "#\"bcde\",\"bcdef\"] \n",
    "\t\n",
    "# Iterate through the list \n",
    "# for keeping the count\n",
    "\n",
    "for i in L: \n",
    "\t\t\n",
    "\t# The default value is 0 \n",
    "\t# so there is no need to \n",
    "\t# enter the key first \n",
    "\td[i] += 1\n",
    "count=0\n",
    "for key in d.items():  \n",
    "    \n",
    "    count=count+1\n",
    "print(count)\t\t\n",
    "#print(d)\n",
    "Val=d.values()\n",
    "for i in Val:\n",
    "    print(i,end=\" \")"
   ]
  },
  {
   "cell_type": "code",
   "execution_count": 6,
   "metadata": {},
   "outputs": [
    {
     "name": "stdout",
     "output_type": "stream",
     "text": [
      "google\n"
     ]
    }
   ],
   "source": [
    "from collections import Counter  \n",
    "import operator\n",
    "    \n",
    "# With sequence of items  \n",
    "x=input()\n",
    "ansd=\"\".join(sorted(x, key = lambda x:x.lower())) \n",
    "#print(ansd) \n",
    "z=[]\n",
    "for i in ansd:\n",
    "    \n",
    "    z.append(i)\n",
    "    \n",
    "#print(z)\n",
    "ansd=z\n",
    "    \n",
    "    \n"
   ]
  },
  {
   "cell_type": "code",
   "execution_count": 7,
   "metadata": {},
   "outputs": [
    {
     "name": "stdout",
     "output_type": "stream",
     "text": [
      "ansd after sorting  ['e', 'g', 'g', 'l', 'o', 'o']\n",
      "before sorting {'e': 1, 'g': 2, 'l': 1, 'o': 2}\n",
      "{'g': 2, 'o': 2, 'e': 1, 'l': 1}\n",
      "g 2\n",
      "o 2\n",
      "e 1\n",
      "l 1\n",
      "['g', 'o', 'e', 'l']\n",
      "[2, 2, 1, 1]\n",
      "g 2\n",
      "o 2\n",
      "e 1\n"
     ]
    }
   ],
   "source": [
    "\n",
    "#dictionary_items = ansd.items()\n",
    "#Get key-value pairs\n",
    "\n",
    "\n",
    "#sorted_items = dict(sorted(dictionary_items))\n",
    "#print(sorted_items)\n",
    "#ansd=sorted_items\n",
    "print(\"ansd after sorting \",ansd)\n",
    "\n",
    "\n",
    "ansd=dict(Counter(ansd)) \n",
    "print(\"before sorting\",ansd)\n",
    "\n",
    "#import operator\n",
    "#word_dict = { 'this': 11, 'at': 11, 'here': 5, 'why': 12, 'is': 2 }\n",
    "# Sort Dictionary by value using itemgetter\n",
    "ansd = dict(sorted(  ansd.items(),\n",
    "                            key=operator.itemgetter(1),\n",
    "                            reverse=True))\n",
    "#print('Sorted Dictionary: ')\n",
    "print(ansd)\n",
    "\n",
    "#print(type(ansd))\n",
    "#print(ansd) \n",
    "\n",
    "for key,value in ansd.items():\n",
    "    print(key,value)\n",
    "\n",
    "Keys=[]\n",
    "Values=[]\n",
    "for i in ansd.keys():\n",
    "    Keys.append(i)\n",
    "    #Values.append(i)\n",
    "\n",
    "print(Keys)\n",
    "\n",
    "for j in ansd.values():\n",
    "    Values.append(j)\n",
    "    #Values.append(i)\n",
    "\n",
    "print(Values)\n",
    "\n",
    "for h in range(0,3):\n",
    "    print(Keys[h],Values[h])\n",
    "    \n"
   ]
  },
  {
   "cell_type": "code",
   "execution_count": null,
   "metadata": {},
   "outputs": [],
   "source": []
  },
  {
   "cell_type": "code",
   "execution_count": null,
   "metadata": {},
   "outputs": [],
   "source": []
  }
 ],
 "metadata": {
  "kernelspec": {
   "display_name": "Python 3",
   "language": "python",
   "name": "python3"
  },
  "language_info": {
   "codemirror_mode": {
    "name": "ipython",
    "version": 3
   },
   "file_extension": ".py",
   "mimetype": "text/x-python",
   "name": "python",
   "nbconvert_exporter": "python",
   "pygments_lexer": "ipython3",
   "version": "3.6.9"
  }
 },
 "nbformat": 4,
 "nbformat_minor": 4
}
