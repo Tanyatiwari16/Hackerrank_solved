{
 "cells": [
  {
   "cell_type": "code",
   "execution_count": 28,
   "metadata": {},
   "outputs": [
    {
     "name": "stdout",
     "output_type": "stream",
     "text": [
      "9\n",
      "3\n"
     ]
    },
    {
     "data": {
      "text/plain": [
       "['AAA', 'BCA', 'DDE']"
      ]
     },
     "execution_count": 28,
     "metadata": {},
     "output_type": "execute_result"
    }
   ],
   "source": [
    "string='AAABCADDE'\n",
    "k=3\n",
    "n=len(string)\n",
    "print(n)\n",
    "Noofsubstr=int(n/k)\n",
    "print(Noofsubstr)\n",
    "x=[]\n",
    "init=0\n",
    "for i in range(0,n,k):\n",
    "    x.append(string[i:k+i])\n",
    "    \n",
    "    \n",
    "x\n"
   ]
  },
  {
   "cell_type": "code",
   "execution_count": 30,
   "metadata": {},
   "outputs": [
    {
     "name": "stdout",
     "output_type": "stream",
     "text": [
      "A\n",
      "BCA\n",
      "DE\n",
      "['D', 'E']\n"
     ]
    }
   ],
   "source": [
    "y=x\n",
    "for i in range(len(y)):\n",
    "\n",
    "    string=y[i]\n",
    "    char_seen = []\n",
    "    for char in string:\n",
    "        if char not in char_seen:\n",
    "            char_seen.append(char) ##For removing repeative elements in a substring \n",
    "    print(''.join(char_seen))\n",
    "    \n",
    "print(char_seen)"
   ]
  },
  {
   "cell_type": "code",
   "execution_count": null,
   "metadata": {},
   "outputs": [],
   "source": []
  }
 ],
 "metadata": {
  "kernelspec": {
   "display_name": "Python 3",
   "language": "python",
   "name": "python3"
  },
  "language_info": {
   "codemirror_mode": {
    "name": "ipython",
    "version": 3
   },
   "file_extension": ".py",
   "mimetype": "text/x-python",
   "name": "python",
   "nbconvert_exporter": "python",
   "pygments_lexer": "ipython3",
   "version": "3.6.9"
  }
 },
 "nbformat": 4,
 "nbformat_minor": 4
}
